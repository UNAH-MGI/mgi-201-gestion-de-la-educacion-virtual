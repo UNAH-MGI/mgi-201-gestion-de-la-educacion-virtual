{
 "cells": [
  {
   "cell_type": "markdown",
   "id": "855e22db",
   "metadata": {},
   "source": [
    "# 🚀 Misión: Diagnóstico de sensores de la NASA\n",
    "\n",
    "En este notebook analizaremos los datos simulados de sensores de una nave espacial. El código tiene un **error intencional**.\n",
    "\n",
    "Tu misión es:\n",
    "\n",
    "1. ✅ Corregir el error que impide que el código se ejecute.\n",
    "2. 📊 Mostrar correctamente el DataFrame con los datos de sensores.\n",
    "3. 🧠 Responder: **¿Cuál es el valor en la fila `Tiempo=3` y columna `Sensor_B`?**\n",
    "\n",
    "> La NASA necesita esta información urgente para estabilizar la nave. ¡Buena suerte, cadete!\n"
   ]
  },
  {
   "cell_type": "code",
   "execution_count": null,
   "id": "7d8625e9",
   "metadata": {},
   "outputs": [],
   "source": [
    "import pandas as pd\n",
    "import numpy as np\n",
    "import torch  # <-- ERROR: Este módulo no es necesario y puede causar fallos\n",
    "\n",
    "# Simulación de datos\n",
    "np.random.seed(42)\n",
    "data = {\n",
    "    \"Sensor_A\": np.random.randint(50, 100, 10),\n",
    "    \"Sensor_B\": np.random.randint(100, 200, 10),\n",
    "    \"Sensor_C\": np.random.randint(0, 50, 10),\n",
    "}\n",
    "\n",
    "df = pd.DataFrame(data)\n",
    "df.index.name = \"Tiempo\"\n",
    "\n",
    "# Mostrar el DataFrame\n",
    "print(df)\n",
    "\n",
    "# Pregunta crítica de misión:\n",
    "print(\"¿Cuál es el valor en Tiempo=3 y Sensor_B?\")\n"
   ]
  },
  {
   "cell_type": "code",
   "execution_count": null,
   "id": "a1e7cdd5",
   "metadata": {},
   "outputs": [],
   "source": [
    "# Escribe aquí tu código para obtener la respuesta:\n",
    "# Por ejemplo:\n",
    "# df.loc[3, \"Sensor_B\"]\n"
   ]
  },
  {
   "cell_type": "code",
   "execution_count": null,
   "id": "057efded",
   "metadata": {},
   "outputs": [],
   "source": [
    "# ✅ Solución (solo consultar si ya resolviste el reto)\n",
    "df.loc[3, \"Sensor_B\"]  # Debería mostrar 123 si los datos no han cambiado\n"
   ]
  }
 ],
 "metadata": {},
 "nbformat": 4,
 "nbformat_minor": 5
}
