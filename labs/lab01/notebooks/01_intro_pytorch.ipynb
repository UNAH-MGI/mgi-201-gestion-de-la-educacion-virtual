{
 "cells": [
  {
   "cell_type": "markdown",
   "id": "752558fe",
   "metadata": {},
   "source": [
    "# Gestión de la Educación Virtual\n",
    "# Preparado por: Servio Palacios, Ph.D.\n",
    "# 🔥 Introducción a PyTorch\n",
    "En este cuaderno aprenderás los conceptos básicos de **PyTorch**, una biblioteca para construir modelos de aprendizaje profundo."
   ]
  },
  {
   "cell_type": "markdown",
   "id": "3541adab",
   "metadata": {},
   "source": [
    "## Objetivos\n",
    "- Crear y manipular tensores\n",
    "- Realizar operaciones matemáticas\n",
    "- Verificar el uso de GPU\n",
    "- Crear y entrenar una red neuronal simple con datos simulados"
   ]
  },
  {
   "cell_type": "markdown",
   "id": "93607b05",
   "metadata": {},
   "source": [
    "## 1. Importar librerías necesarias"
   ]
  },
  {
   "cell_type": "code",
   "execution_count": 10,
   "id": "1be76970",
   "metadata": {},
   "outputs": [
    {
     "name": "stdout",
     "output_type": "stream",
     "text": [
      "Requirement already satisfied: torch in /Users/maverickzhn/opt/anaconda3/lib/python3.9/site-packages (2.2.2)\n",
      "Requirement already satisfied: torchvision in /Users/maverickzhn/opt/anaconda3/lib/python3.9/site-packages (0.17.2)\n",
      "Requirement already satisfied: torchaudio in /Users/maverickzhn/opt/anaconda3/lib/python3.9/site-packages (2.2.2)\n",
      "Requirement already satisfied: filelock in /Users/maverickzhn/opt/anaconda3/lib/python3.9/site-packages (from torch) (3.17.0)\n",
      "Requirement already satisfied: typing-extensions>=4.8.0 in /Users/maverickzhn/opt/anaconda3/lib/python3.9/site-packages (from torch) (4.12.2)\n",
      "Requirement already satisfied: sympy in /Users/maverickzhn/opt/anaconda3/lib/python3.9/site-packages (from torch) (1.13.3)\n",
      "Requirement already satisfied: networkx in /Users/maverickzhn/opt/anaconda3/lib/python3.9/site-packages (from torch) (3.2.1)\n",
      "Requirement already satisfied: jinja2 in /Users/maverickzhn/opt/anaconda3/lib/python3.9/site-packages (from torch) (3.1.6)\n",
      "Requirement already satisfied: fsspec in /Users/maverickzhn/opt/anaconda3/lib/python3.9/site-packages (from torch) (2025.3.0)\n",
      "Requirement already satisfied: numpy in /Users/maverickzhn/opt/anaconda3/lib/python3.9/site-packages (from torchvision) (1.21.5)\n",
      "Requirement already satisfied: pillow!=8.3.*,>=5.3.0 in /Users/maverickzhn/opt/anaconda3/lib/python3.9/site-packages (from torchvision) (11.1.0)\n",
      "Requirement already satisfied: MarkupSafe>=2.0 in /Users/maverickzhn/opt/anaconda3/lib/python3.9/site-packages (from jinja2->torch) (3.0.2)\n",
      "Requirement already satisfied: mpmath<1.4,>=1.1.0 in /Users/maverickzhn/opt/anaconda3/lib/python3.9/site-packages (from sympy->torch) (1.3.0)\n"
     ]
    }
   ],
   "source": [
    "!pip install torch torchvision torchaudio\n",
    "import torch\n",
    "import torch.nn as nn\n",
    "import torch.nn.functional as F\n",
    "from torch.utils.data import DataLoader, TensorDataset\n",
    "import matplotlib.pyplot as plt\n",
    "import numpy as np"
   ]
  },
  {
   "cell_type": "markdown",
   "id": "3e41d858",
   "metadata": {},
   "source": [
    "## 2. Crear y manipular tensores"
   ]
  },
  {
   "cell_type": "code",
   "execution_count": 3,
   "id": "488ff1d1",
   "metadata": {},
   "outputs": [
    {
     "name": "stdout",
     "output_type": "stream",
     "text": [
      "Tensor x:\n",
      " tensor([[1., 2.],\n",
      "        [3., 4.]])\n",
      "Tensor y:\n",
      " tensor([[ 4.,  7.],\n",
      "        [12., 19.]])\n"
     ]
    }
   ],
   "source": [
    "x = torch.tensor([[1.0, 2.0], [3.0, 4.0]])\n",
    "print(\"Tensor x:\\n\", x)\n",
    "\n",
    "y = x ** 2 + 3\n",
    "print(\"Tensor y:\\n\", y)"
   ]
  },
  {
   "cell_type": "markdown",
   "id": "38628168",
   "metadata": {},
   "source": [
    "## 3. Verificar disponibilidad de GPU"
   ]
  },
  {
   "cell_type": "code",
   "execution_count": 4,
   "id": "672888cd",
   "metadata": {},
   "outputs": [
    {
     "name": "stdout",
     "output_type": "stream",
     "text": [
      "Usando dispositivo: cpu\n"
     ]
    }
   ],
   "source": [
    "device = torch.device('cuda' if torch.cuda.is_available() else 'cpu')\n",
    "print(f\"Usando dispositivo: {device}\")"
   ]
  },
  {
   "cell_type": "markdown",
   "id": "507b6c4a",
   "metadata": {},
   "source": [
    "## 4. Crear datos ficticios para clasificación"
   ]
  },
  {
   "cell_type": "code",
   "execution_count": 5,
   "id": "aef92626",
   "metadata": {},
   "outputs": [],
   "source": [
    "X = torch.randn(200, 4)\n",
    "y = torch.randint(0, 3, (200,))  # 3 clases\n",
    "\n",
    "dataset = TensorDataset(X, y)\n",
    "dataloader = DataLoader(dataset, batch_size=16, shuffle=True)"
   ]
  },
  {
   "cell_type": "markdown",
   "id": "1349b364",
   "metadata": {},
   "source": [
    "## 5. Definir una red neuronal simple"
   ]
  },
  {
   "cell_type": "code",
   "execution_count": 6,
   "id": "5e305636",
   "metadata": {},
   "outputs": [
    {
     "name": "stdout",
     "output_type": "stream",
     "text": [
      "RedSimple(\n",
      "  (fc1): Linear(in_features=4, out_features=16, bias=True)\n",
      "  (fc2): Linear(in_features=16, out_features=3, bias=True)\n",
      ")\n"
     ]
    }
   ],
   "source": [
    "class RedSimple(nn.Module):\n",
    "    def __init__(self):\n",
    "        super(RedSimple, self).__init__()\n",
    "        self.fc1 = nn.Linear(4, 16)\n",
    "        self.fc2 = nn.Linear(16, 3)\n",
    "\n",
    "    def forward(self, x):\n",
    "        x = F.relu(self.fc1(x))\n",
    "        return self.fc2(x)\n",
    "\n",
    "model = RedSimple().to(device)\n",
    "print(model)"
   ]
  },
  {
   "cell_type": "markdown",
   "id": "2286274f",
   "metadata": {},
   "source": [
    "## 6. Entrenar el modelo"
   ]
  },
  {
   "cell_type": "code",
   "execution_count": 7,
   "id": "cfd242da",
   "metadata": {},
   "outputs": [
    {
     "name": "stdout",
     "output_type": "stream",
     "text": [
      "Época 1, Pérdida total: 14.5553\n",
      "Época 2, Pérdida total: 14.1901\n",
      "Época 3, Pérdida total: 14.0202\n",
      "Época 4, Pérdida total: 13.9520\n",
      "Época 5, Pérdida total: 13.8356\n",
      "Época 6, Pérdida total: 13.7393\n",
      "Época 7, Pérdida total: 13.9158\n",
      "Época 8, Pérdida total: 13.8492\n",
      "Época 9, Pérdida total: 13.6624\n",
      "Época 10, Pérdida total: 13.5777\n"
     ]
    }
   ],
   "source": [
    "\n",
    "optimizer = torch.optim.Adam(model.parameters(), lr=0.01)\n",
    "criterion = nn.CrossEntropyLoss()\n",
    "\n",
    "losses = []\n",
    "for epoch in range(10):\n",
    "    total_loss = 0\n",
    "    for batch_x, batch_y in dataloader:\n",
    "        batch_x, batch_y = batch_x.to(device), batch_y.to(device)\n",
    "\n",
    "        optimizer.zero_grad()\n",
    "        outputs = model(batch_x)\n",
    "        loss = criterion(outputs, batch_y)\n",
    "        loss.backward()\n",
    "        optimizer.step()\n",
    "        total_loss += loss.item()\n",
    "\n",
    "    print(f\"Época {epoch+1}, Pérdida total: {total_loss:.4f}\")\n",
    "    losses.append(total_loss)\n"
   ]
  },
  {
   "cell_type": "markdown",
   "id": "1a971687",
   "metadata": {},
   "source": [
    "## 7. Visualizar la pérdida de entrenamiento"
   ]
  },
  {
   "cell_type": "code",
   "execution_count": 8,
   "id": "3b8a06c3",
   "metadata": {},
   "outputs": [
    {
     "data": {
      "image/png": "[encoded data removed]",
      "text/plain": [
       "<Figure size 640x480 with 1 Axes>"
      ]
     },
     "metadata": {},
     "output_type": "display_data"
    }
   ],
   "source": [
    "plt.plot(losses)\n",
    "plt.title(\"Curva de pérdida\")\n",
    "plt.xlabel(\"Épocas\")\n",
    "plt.ylabel(\"Pérdida\")\n",
    "plt.grid()\n",
    "plt.show()"
   ]
  },
  {
   "cell_type": "markdown",
   "id": "7abeb9fc",
   "metadata": {},
   "source": [
    "## Reflexión\n",
    "- ¿Qué aprendiste sobre PyTorch?\n",
    "- ¿Qué parte fue más interesante?\n",
    "- ¿Qué cambios podrías hacer al modelo para mejorarlo?"
   ]
  },
  {
   "cell_type": "code",
   "execution_count": null,
   "id": "f26cf242-202f-4413-9d62-1805885b532b",
   "metadata": {},
   "outputs": [],
   "source": []
  }
 ],
 "metadata": {
  "kernelspec": {
   "display_name": "Python 3 (ipykernel)",
   "language": "python",
   "name": "python3"
  },
  "language": "python",
  "language_info": {
   "codemirror_mode": {
    "name": "ipython",
    "version": 3
   },
   "file_extension": ".py",
   "mimetype": "text/x-python",
   "name": "python",
   "nbconvert_exporter": "python",
   "pygments_lexer": "ipython3",
   "version": "3.9.12"
  }
 },
 "nbformat": 4,
 "nbformat_minor": 5
}
